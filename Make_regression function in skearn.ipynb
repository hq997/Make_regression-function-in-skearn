{
 "cells": [
  {
   "cell_type": "markdown",
   "metadata": {},
   "source": [
    "## Make_regression function in skearn "
   ]
  },
  {
   "cell_type": "code",
   "execution_count": 14,
   "metadata": {},
   "outputs": [],
   "source": [
    "## Importing the required packages\n",
    "\n",
    "import pandas as pd\n",
    "from sklearn.datasets import make_regression\n",
    "from sklearn.model_selection import train_test_split\n",
    "from sklearn.linear_model import Lasso, LinearRegression, Ridge\n",
    "from sklearn.preprocessing import PolynomialFeatures \n",
    "from sklearn.pipeline import make_pipeline\n",
    "from sklearn.metrics import mean_squared_error"
   ]
  },
  {
   "cell_type": "code",
   "execution_count": 2,
   "metadata": {},
   "outputs": [],
   "source": [
    "## Creating the dataset with 500 samples and 15 features\n",
    "\n",
    "X, y = make_regression(n_samples=500, n_features=15, random_state=10)"
   ]
  },
  {
   "cell_type": "code",
   "execution_count": 3,
   "metadata": {},
   "outputs": [],
   "source": [
    "## Splitting the data in Training and Test sets\n",
    "\n",
    "X_train, X_test, y_train, y_test = train_test_split(X, y, test_size=0.3)"
   ]
  },
  {
   "cell_type": "code",
   "execution_count": 4,
   "metadata": {},
   "outputs": [],
   "source": [
    "## Creating all four models\n",
    "\n",
    "linear_regressor = LinearRegression()\n",
    "lasso_regressor  = Lasso()\n",
    "ridge_regressor  = Ridge()\n",
    "\n",
    "degree = 7\n",
    "polynomial_regressor = make_pipeline(PolynomialFeatures(degree) ,LinearRegression())"
   ]
  },
  {
   "cell_type": "code",
   "execution_count": 5,
   "metadata": {},
   "outputs": [
    {
     "name": "stdout",
     "output_type": "stream",
     "text": [
      "Linear Regression Model training complete\n",
      "Lasso Regression Model training complete\n",
      "Ridge Regression Model training complete\n",
      "Polynomial Regression Model training complete\n"
     ]
    }
   ],
   "source": [
    "## Training the models on training set\n",
    "\n",
    "linear_regressor.fit(X_train, y_train)\n",
    "print('Linear Regression Model training complete')\n",
    "\n",
    "lasso_regressor.fit(X_train, y_train)\n",
    "print('Lasso Regression Model training complete')\n",
    "\n",
    "ridge_regressor.fit(X_train, y_train)\n",
    "print('Ridge Regression Model training complete')\n",
    "\n",
    "polynomial_regressor.fit(X_train, y_train)\n",
    "print('Polynomial Regression Model training complete')"
   ]
  },
  {
   "cell_type": "code",
   "execution_count": 8,
   "metadata": {},
   "outputs": [],
   "source": [
    "## Predicting on Test set using all the models\n",
    "\n",
    "linear_model_preds      = linear_regressor.predict(X_test)\n",
    "lasso_model_preds       = lasso_regressor.predict(X_test)\n",
    "ridge_model_preds       = ridge_regressor.predict(X_test)\n",
    "polynomial_model_preds  = polynomial_regressor.predict(X_test)"
   ]
  },
  {
   "cell_type": "code",
   "execution_count": 11,
   "metadata": {},
   "outputs": [],
   "source": [
    "## Calculating Mean Squared Errors for all the models\n",
    "\n",
    "linear_model_mse     = mean_squared_error(y_test, linear_model_preds)\n",
    "lasso_model_mse      = mean_squared_error(y_test, lasso_model_preds)\n",
    "ridge_model_mse      = mean_squared_error(y_test, ridge_model_preds)\n",
    "polynomial_model_mse = mean_squared_error(y_test, polynomial_model_preds)"
   ]
  },
  {
   "cell_type": "code",
   "execution_count": 26,
   "metadata": {},
   "outputs": [],
   "source": [
    "mse_df = pd.DataFrame()\n",
    "mse_df['Linear Model MSE']      = [ linear_model_mse     ]\n",
    "mse_df['Lasso Model MSE']       = [ lasso_model_mse      ]\n",
    "mse_df['Ridge Model MSE']       = [ ridge_model_mse      ]\n",
    "mse_df['Polynomial Model MSE']  = [ polynomial_model_mse ]"
   ]
  },
  {
   "cell_type": "code",
   "execution_count": 27,
   "metadata": {},
   "outputs": [
    {
     "data": {
      "text/html": [
       "<div>\n",
       "<style scoped>\n",
       "    .dataframe tbody tr th:only-of-type {\n",
       "        vertical-align: middle;\n",
       "    }\n",
       "\n",
       "    .dataframe tbody tr th {\n",
       "        vertical-align: top;\n",
       "    }\n",
       "\n",
       "    .dataframe thead th {\n",
       "        text-align: right;\n",
       "    }\n",
       "</style>\n",
       "<table border=\"1\" class=\"dataframe\">\n",
       "  <thead>\n",
       "    <tr style=\"text-align: right;\">\n",
       "      <th></th>\n",
       "      <th>0</th>\n",
       "    </tr>\n",
       "  </thead>\n",
       "  <tbody>\n",
       "    <tr>\n",
       "      <th>Linear Model MSE</th>\n",
       "      <td>2.606266e-26</td>\n",
       "    </tr>\n",
       "    <tr>\n",
       "      <th>Lasso Model MSE</th>\n",
       "      <td>1.004373e+01</td>\n",
       "    </tr>\n",
       "    <tr>\n",
       "      <th>Ridge Model MSE</th>\n",
       "      <td>2.386415e-01</td>\n",
       "    </tr>\n",
       "    <tr>\n",
       "      <th>Polynomial Model MSE</th>\n",
       "      <td>3.555967e+05</td>\n",
       "    </tr>\n",
       "  </tbody>\n",
       "</table>\n",
       "</div>"
      ],
      "text/plain": [
       "                                 0\n",
       "Linear Model MSE      2.606266e-26\n",
       "Lasso Model MSE       1.004373e+01\n",
       "Ridge Model MSE       2.386415e-01\n",
       "Polynomial Model MSE  3.555967e+05"
      ]
     },
     "execution_count": 27,
     "metadata": {},
     "output_type": "execute_result"
    }
   ],
   "source": [
    "mse_df.T"
   ]
  },
  {
   "cell_type": "markdown",
   "metadata": {},
   "source": [
    "## Normal equation "
   ]
  },
  {
   "cell_type": "code",
   "execution_count": 28,
   "metadata": {},
   "outputs": [],
   "source": [
    "## Importing reqred packages\n",
    "\n",
    "from numpy.linalg import inv"
   ]
  },
  {
   "cell_type": "code",
   "execution_count": 29,
   "metadata": {},
   "outputs": [],
   "source": [
    "def normal_equation(X, y):  \n",
    "    \n",
    "    X_transpose = X.T  \n",
    "    params = inv(X_transpose.dot(X)).dot(X_transpose).dot(y)  \n",
    "        \n",
    "    return params"
   ]
  },
  {
   "cell_type": "code",
   "execution_count": 31,
   "metadata": {},
   "outputs": [],
   "source": [
    "optimum_params = normal_equation(X, y)"
   ]
  },
  {
   "cell_type": "code",
   "execution_count": 32,
   "metadata": {},
   "outputs": [
    {
     "data": {
      "text/plain": [
       "array([-6.66133815e-15,  7.48317400e+01,  2.16852992e+01,  3.55271368e-15,\n",
       "        2.66453526e-15,  6.76653285e+01,  6.14698118e+01,  4.68502176e+01,\n",
       "        5.68890217e+01,  8.88178420e-16, -4.44089210e-16,  5.47870989e+01,\n",
       "        4.63835961e+01,  5.80605918e+01,  4.20568104e+01])"
      ]
     },
     "execution_count": 32,
     "metadata": {},
     "output_type": "execute_result"
    }
   ],
   "source": [
    "optimum_params"
   ]
  },
  {
   "cell_type": "code",
   "execution_count": null,
   "metadata": {},
   "outputs": [],
   "source": []
  }
 ],
 "metadata": {
  "kernelspec": {
   "display_name": "Python 3",
   "language": "python",
   "name": "python3"
  },
  "language_info": {
   "codemirror_mode": {
    "name": "ipython",
    "version": 3
   },
   "file_extension": ".py",
   "mimetype": "text/x-python",
   "name": "python",
   "nbconvert_exporter": "python",
   "pygments_lexer": "ipython3",
   "version": "3.8.3"
  }
 },
 "nbformat": 4,
 "nbformat_minor": 2
}
